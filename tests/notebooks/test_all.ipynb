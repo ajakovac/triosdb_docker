{
 "cells": [
  {
   "cell_type": "code",
   "execution_count": 1,
   "id": "d1c877cd",
   "metadata": {},
   "outputs": [
    {
     "name": "stdout",
     "output_type": "stream",
     "text": [
      "Start time:2025-09-16 09:19:39.145\n"
     ]
    }
   ],
   "source": [
    "import redis, os\n",
    "from datetime import datetime\n",
    "import sys\n",
    "import json\n",
    "sys.path.insert(0, os.path.abspath(os.path.join(os.getcwd(), '../..')))\n",
    "\n",
    "start_execution_time=datetime.now()\n",
    "print(f'Start time:{start_execution_time.strftime(\"%Y-%m-%d %H:%M:%S.%f\")[:-3]}')"
   ]
  },
  {
   "cell_type": "code",
   "execution_count": 2,
   "id": "5817e68d",
   "metadata": {},
   "outputs": [],
   "source": [
    "redis_url = os.getenv(\"REDIS_URL\", \"redis://localhost:6379/0\")"
   ]
  },
  {
   "cell_type": "code",
   "execution_count": 3,
   "id": "567044f8",
   "metadata": {},
   "outputs": [
    {
     "name": "stdout",
     "output_type": "stream",
     "text": [
      "True\n"
     ]
    }
   ],
   "source": [
    "r = redis.Redis.from_url(redis_url)\n",
    "print(r.ping())"
   ]
  },
  {
   "cell_type": "code",
   "execution_count": null,
   "id": "48fe97ae",
   "metadata": {},
   "outputs": [],
   "source": [
    "from session.connector import DatabaseConnector"
   ]
  },
  {
   "cell_type": "code",
   "execution_count": 6,
   "id": "50f517c9",
   "metadata": {},
   "outputs": [],
   "source": [
    "server = DatabaseConnector()"
   ]
  },
  {
   "cell_type": "code",
   "execution_count": 16,
   "id": "9b5d9f60",
   "metadata": {},
   "outputs": [
    {
     "name": "stdout",
     "output_type": "stream",
     "text": [
      "📑 Create key\n",
      "checking: exists=True, value=['alma']\n",
      "raw={'test_key': 'alma'}\n",
      "📑 Delete key\n",
      "raw={}\n"
     ]
    }
   ],
   "source": [
    "print('📑 Create key')\n",
    "server.set('test_key', 'alma')\n",
    "print(f'checking: exists={bool(server.exists('test_key'))}, value={server.get('test_key')}')\n",
    "print(f'raw={server.raw()}')\n",
    "print('📑 Delete key')\n",
    "server.delete('test_key')\n",
    "print(f'raw={server.raw()}')"
   ]
  },
  {
   "cell_type": "code",
   "execution_count": null,
   "id": "7b766c33",
   "metadata": {},
   "outputs": [],
   "source": []
  }
 ],
 "metadata": {
  "kernelspec": {
   "display_name": "triosdb",
   "language": "python",
   "name": "python3"
  },
  "language_info": {
   "codemirror_mode": {
    "name": "ipython",
    "version": 3
   },
   "file_extension": ".py",
   "mimetype": "text/x-python",
   "name": "python",
   "nbconvert_exporter": "python",
   "pygments_lexer": "ipython3",
   "version": "3.12.3"
  }
 },
 "nbformat": 4,
 "nbformat_minor": 5
}
