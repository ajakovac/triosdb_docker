{
 "cells": [
  {
   "cell_type": "code",
   "execution_count": 2,
   "id": "d1c877cd",
   "metadata": {},
   "outputs": [],
   "source": [
    "import redis, os"
   ]
  },
  {
   "cell_type": "code",
   "execution_count": 7,
   "id": "5817e68d",
   "metadata": {},
   "outputs": [],
   "source": [
    "redis_url = os.getenv(\"REDIS_URL\", \"redis://localhost:6379/0\")"
   ]
  },
  {
   "cell_type": "code",
   "execution_count": 8,
   "id": "567044f8",
   "metadata": {},
   "outputs": [
    {
     "name": "stdout",
     "output_type": "stream",
     "text": [
      "True\n"
     ]
    }
   ],
   "source": [
    "r = redis.Redis.from_url(redis_url)\n",
    "print(r.ping())"
   ]
  },
  {
   "cell_type": "code",
   "execution_count": null,
   "id": "48fe97ae",
   "metadata": {},
   "outputs": [],
   "source": []
  }
 ],
 "metadata": {
  "kernelspec": {
   "display_name": "triosdb",
   "language": "python",
   "name": "python3"
  },
  "language_info": {
   "codemirror_mode": {
    "name": "ipython",
    "version": 3
   },
   "file_extension": ".py",
   "mimetype": "text/x-python",
   "name": "python",
   "nbconvert_exporter": "python",
   "pygments_lexer": "ipython3",
   "version": "3.12.3"
  }
 },
 "nbformat": 4,
 "nbformat_minor": 5
}
